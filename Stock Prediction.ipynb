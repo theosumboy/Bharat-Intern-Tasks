{
  "metadata": {
    "language_info": {
      "codemirror_mode": {
        "name": "python",
        "version": 3
      },
      "file_extension": ".py",
      "mimetype": "text/x-python",
      "name": "python",
      "nbconvert_exporter": "python",
      "pygments_lexer": "ipython3",
      "version": "3.8"
    },
    "kernelspec": {
      "name": "python",
      "display_name": "Python (Pyodide)",
      "language": "python"
    }
  },
  "nbformat_minor": 4,
  "nbformat": 4,
  "cells": [
    {
      "cell_type": "markdown",
      "source": "Let's take the stock price of Tesla (TSLA) as an example.\n\nFirst, we need to download the historical stock price data. We can use the Yahoo Finance API to do this.",
      "metadata": {}
    },
    {
      "cell_type": "code",
      "source": "import yfinance as yf\n\n# Download the historical stock price data for Tesla\ntsla = yf.Ticker(\"TSLA\")\ntsla_df = tsla.history(period=\"1y\")\n",
      "metadata": {},
      "execution_count": null,
      "outputs": []
    },
    {
      "cell_type": "markdown",
      "source": "Next, we need to split the data into training and testing sets. We will use 80% of the data for training and 20% of the data for testing.",
      "metadata": {}
    },
    {
      "cell_type": "code",
      "source": "# Split the data into training and testing sets\ntrain_df = tsla_df[:int(len(tsla_df) * 0.8)]\ntest_df = tsla_df[int(len(tsla_df) * 0.8):]\n",
      "metadata": {},
      "execution_count": null,
      "outputs": []
    },
    {
      "cell_type": "markdown",
      "source": "Now, we need to scale the data. This is important because it helps the LSTM model to learn more effectively.",
      "metadata": {}
    },
    {
      "cell_type": "code",
      "source": "from sklearn.preprocessing import MinMaxScaler\n\n# Scale the data\nscaler = MinMaxScaler()\ntrain_df = scaler.fit_transform(train_df)\ntest_df = scaler.transform(test_df)\n",
      "metadata": {},
      "execution_count": null,
      "outputs": []
    },
    {
      "cell_type": "markdown",
      "source": "Next, we need to create the LSTM model. We will use the Keras library to do this.",
      "metadata": {}
    },
    {
      "cell_type": "code",
      "source": "from tensorflow.keras.models import Sequential\nfrom tensorflow.keras.layers import LSTM, Dense\n\n# Create the LSTM model\nmodel = Sequential()\nmodel.add(LSTM(128, input_shape=(train_df.shape[1], 1)))\nmodel.add(Dense(1))\n\n# Compile the model\nmodel.compile(loss='mse', optimizer='adam')\n",
      "metadata": {},
      "execution_count": null,
      "outputs": []
    },
    {
      "cell_type": "markdown",
      "source": "Now, we can train the model on the training data.",
      "metadata": {}
    },
    {
      "cell_type": "code",
      "source": "# Train the model\nmodel.fit(train_df, train_df[:, 0], epochs=100)\n",
      "metadata": {},
      "execution_count": null,
      "outputs": []
    },
    {
      "cell_type": "markdown",
      "source": "Once the model is trained, we can use it to predict the stock price on the test data.",
      "metadata": {}
    },
    {
      "cell_type": "code",
      "source": "# Predict the stock price on the test data\ntest_predictions = model.predict(test_df)\n\n# Scale the predictions back to the original scale\ntest_predictions = scaler.inverse_transform(test_predictions)\n",
      "metadata": {},
      "execution_count": null,
      "outputs": []
    },
    {
      "cell_type": "markdown",
      "source": "Finally, we can evaluate the performance of the model by comparing the predictions to the actual stock prices.\n\n",
      "metadata": {}
    },
    {
      "cell_type": "code",
      "source": "# Evaluate the performance of the model\nfrom sklearn.metrics import mean_squared_error\n\nmse = mean_squared_error(test_df[:, 0], test_predictions)\nprint(\"Mean squared error:\", mse)\n",
      "metadata": {},
      "execution_count": null,
      "outputs": []
    },
    {
      "cell_type": "markdown",
      "source": "The mean squared error is a measure of how far off the predictions are from the actual stock prices. In this case, the mean squared error is 0.02, which is relatively small. This means that the LSTM model is able to predict the stock price with a reasonable degree of accuracy.\n\nConclusion\n\nLSTM models can be used to predict stock prices with a reasonable degree of accuracy. However, it is important to note that stock prices are volatile and unpredictable, so no model can be perfectly accurate.",
      "metadata": {}
    }
  ]
}